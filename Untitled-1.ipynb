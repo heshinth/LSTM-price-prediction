{
 "cells": [
  {
   "cell_type": "code",
   "execution_count": 1,
   "metadata": {},
   "outputs": [
    {
     "ename": "",
     "evalue": "",
     "output_type": "error",
     "traceback": [
      "\u001b[1;31mThe Kernel crashed while executing code in the current cell or a previous cell. \n",
      "\u001b[1;31mPlease review the code in the cell(s) to identify a possible cause of the failure. \n",
      "\u001b[1;31mClick <a href='https://aka.ms/vscodeJupyterKernelCrash'>here</a> for more info. \n",
      "\u001b[1;31mView Jupyter <a href='command:jupyter.viewOutput'>log</a> for further details."
     ]
    }
   ],
   "source": [
    "import torch\n",
    "\n",
    "if torch.cuda.is_available():\n",
    "    print(\"CUDA is available! Training on GPU.\")\n",
    "    device = torch.device('cuda') \n",
    "else:\n",
    "    print(\"CUDA is not available. Training on CPU.\")\n",
    "    device = torch.device('cpu')"
   ]
  },
  {
   "cell_type": "code",
   "execution_count": null,
   "metadata": {},
   "outputs": [],
   "source": [
    "import pandas as pd\n",
    "\n",
    "def clean_data(df):\n",
    "    # Sort by column: 'id' (ascending)\n",
    "    df = df.sort_values(['id'])\n",
    "    # Change column type to datetime64[ns] for column: 'date'\n",
    "    df = df.astype({'date': 'datetime64[ns]'})\n",
    "    # Drop column: 'zone'\n",
    "    df = df.drop(columns=['zone'])\n",
    "    # Drop column: 'centre_id'\n",
    "    df = df.drop(columns=['centre_id'])\n",
    "    # Drop column: 'centre'\n",
    "    df = df.drop(columns=['centre'])\n",
    "    # Change column type to category for column: 'commodity_group'\n",
    "    df = df.astype({'commodity_group': 'category'})\n",
    "    # Change column type to category for column: 'commodity_id'\n",
    "    df = df.astype({'commodity_id': 'category'})\n",
    "    # Change column type to category for column: 'commodity'\n",
    "    df = df.astype({'commodity': 'category'})\n",
    "    return df\n",
    "\n",
    "# Loaded variable 'df' from URI: c:\\Users\\heshi\\Documents\\GitHub\\LSTM-price-prediction\\2023allchennai.csv\n",
    "df = pd.read_csv(r'c:\\Users\\heshi\\Documents\\GitHub\\LSTM-price-prediction\\2023allchennai.csv')\n",
    "\n",
    "df_clean = clean_data(df.copy())\n",
    "df_clean.head()"
   ]
  }
 ],
 "metadata": {
  "kernelspec": {
   "display_name": "base",
   "language": "python",
   "name": "python3"
  },
  "language_info": {
   "codemirror_mode": {
    "name": "ipython",
    "version": 3
   },
   "file_extension": ".py",
   "mimetype": "text/x-python",
   "name": "python",
   "nbconvert_exporter": "python",
   "pygments_lexer": "ipython3",
   "version": "3.11.7"
  }
 },
 "nbformat": 4,
 "nbformat_minor": 2
}
