{
 "cells": [
  {
   "cell_type": "code",
   "execution_count": 1,
   "metadata": {},
   "outputs": [
    {
     "name": "stdout",
     "output_type": "stream",
     "text": [
      "CUDA is available! Training on GPU.\n"
     ]
    }
   ],
   "source": [
    "import os\n",
    "os.environ[\"KMP_DUPLICATE_LIB_OK\"] = \"TRUE\"\n",
    "\n",
    "import torch\n",
    "\n",
    "if torch.cuda.is_available():\n",
    "    print(\"CUDA is available! Training on GPU.\")\n",
    "    device = torch.device('cuda') \n",
    "else:\n",
    "    print(\"CUDA is not available. Training on CPU.\")\n",
    "    device = torch.device('cpu')"
   ]
  },
  {
   "cell_type": "code",
   "execution_count": null,
   "metadata": {},
   "outputs": [],
   "source": [
    "import pandas as pd\n",
    "\n",
    "def clean_data(df):\n",
    "    # Sort by column: 'id' (ascending)\n",
    "    df = df.sort_values(['id'])\n",
    "    # Change column type to datetime64[ns] for column: 'date'\n",
    "    df = df.astype({'date': 'datetime64[ns]'})\n",
    "    # Drop column: 'zone'\n",
    "    df = df.drop(columns=['zone'])\n",
    "    # Drop column: 'centre_id'\n",
    "    df = df.drop(columns=['centre_id'])\n",
    "    # Drop column: 'centre'\n",
    "    df = df.drop(columns=['centre'])\n",
    "    # Change column type to category for column: 'commodity_group'\n",
    "    df = df.astype({'commodity_group': 'category'})\n",
    "    # Change column type to category for column: 'commodity_id'\n",
    "    df = df.astype({'commodity_id': 'category'})\n",
    "    # Change column type to category for column: 'commodity'\n",
    "    df = df.astype({'commodity': 'category'})\n",
    "    return df\n",
    "\n",
    "# Loaded variable 'df' from URI: c:\\Users\\heshi\\Documents\\GitHub\\LSTM-price-prediction\\2023allchennai.csv\n",
    "df = pd.read_csv(r'c:\\Users\\heshi\\Documents\\GitHub\\LSTM-price-prediction\\2023allchennai.csv')\n",
    "\n",
    "df_clean = clean_data(df.copy())\n",
    "df_clean.head()"
   ]
  }
 ],
 "metadata": {
  "kernelspec": {
   "display_name": "base",
   "language": "python",
   "name": "python3"
  },
  "language_info": {
   "codemirror_mode": {
    "name": "ipython",
    "version": 3
   },
   "file_extension": ".py",
   "mimetype": "text/x-python",
   "name": "python",
   "nbconvert_exporter": "python",
   "pygments_lexer": "ipython3",
   "version": "3.11.7"
  }
 },
 "nbformat": 4,
 "nbformat_minor": 2
}
