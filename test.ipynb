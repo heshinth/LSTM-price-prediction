{
 "cells": [
  {
   "cell_type": "code",
   "execution_count": 7,
   "metadata": {},
   "outputs": [],
   "source": [
    "import pandas as pd\n",
    "from sklearn.preprocessing import LabelEncoder, MinMaxScaler\n",
    "from torch.utils.data import Dataset, DataLoader\n",
    "\n",
    "class CommodityPriceDataset(Dataset):\n",
    "    def __init__(self, data, seq_length):\n",
    "        self.data = data\n",
    "        self.seq_length = seq_length\n",
    "        self.scaler = MinMaxScaler()\n",
    "        self.price = self.scaler.fit_transform(data['price'].values.reshape(-1, 1))\n",
    "\n",
    "    def __len__(self):\n",
    "        return len(self.data) - self.seq_length\n",
    "\n",
    "    def __getitem__(self, idx):\n",
    "        features = self.data[idx:idx + self.seq_length].values  # Get sequence of features\n",
    "        target = self.price[idx + self.seq_length]             # Get target price\n",
    "        return features, target\n",
    "\n",
    "# Load and process data\n",
    "df = pd.read_csv('2023allchennai2.csv')\n",
    "df = df.astype({'commodity_group': 'category'})\n",
    "    # Change column type to category for column: 'commodity_id'\n",
    "df = df.astype({'commodity_id': 'category'})\n",
    "    # Change column type to category for column: 'commodity'\n",
    "df = df.astype({'commodity': 'category'})\n",
    "df['date'] = pd.to_datetime(df['date']) \n",
    "df['weekday'] = df['date'].dt.weekday\n",
    "df['month'] = df['date'].dt.month\n",
    "df['day'] = df['date'].dt.day\n",
    "\n",
    "le = LabelEncoder()\n",
    "df['commodity_encoded'] = le.fit_transform(df['commodity'])\n",
    "\n",
    "# Hyperparameters\n",
    "seq_length = 7  # Use 7 days of data to predict the next day's price\n",
    "batch_size = 32\n",
    "\n",
    "dataset = CommodityPriceDataset(df[['weekday', 'month', 'day', 'commodity_encoded', 'price']], seq_length)\n",
    "dataloader = DataLoader(dataset, batch_size=batch_size, shuffle=True)"
   ]
  },
  {
   "cell_type": "code",
   "execution_count": 8,
   "metadata": {},
   "outputs": [],
   "source": [
    "import torch\n",
    "import torch.nn as nn\n",
    "\n",
    "class LSTMPricePredictor(nn.Module):\n",
    "    def __init__(self, input_size, hidden_size, num_layers, output_size):\n",
    "        super(LSTMPricePredictor, self).__init__()\n",
    "        self.hidden_size = hidden_size\n",
    "        self.num_layers = num_layers\n",
    "        self.lstm = nn.LSTM(input_size, hidden_size, num_layers, batch_first=True)\n",
    "        self.fc = nn.Linear(hidden_size, output_size)\n",
    "\n",
    "    def forward(self, x):\n",
    "        h0 = torch.zeros(self.num_layers, x.size(0), self.hidden_size).to(x.device)\n",
    "        c0 = torch.zeros(self.num_layers, x.size(0), self.hidden_size).to(x.device)\n",
    "        \n",
    "        out, _ = self.lstm(x, (h0, c0))  \n",
    "        out = self.fc(out[:, -1, :])  # Take output from last time step\n",
    "        return out\n",
    "\n",
    "# Model hyperparameters\n",
    "input_size = 5   # Number of features (weekday, month, day, commodity_encoded, price)\n",
    "hidden_size = 128 \n",
    "num_layers = 2\n",
    "output_size = 1  # Predicting a single price value\n",
    "\n",
    "# Instantiate the model\n",
    "model = LSTMPricePredictor(input_size, hidden_size, num_layers, output_size)"
   ]
  },
  {
   "cell_type": "code",
   "execution_count": 9,
   "metadata": {},
   "outputs": [
    {
     "name": "stderr",
     "output_type": "stream",
     "text": [
      "Epoch [1/10]: 100%|██████████| 245/245 [00:02<00:00, 96.94it/s, loss=0.00233]  \n",
      "Epoch [2/10]: 100%|██████████| 245/245 [00:02<00:00, 119.60it/s, loss=0.00268] \n",
      "Epoch [3/10]: 100%|██████████| 245/245 [00:02<00:00, 115.15it/s, loss=0.000444]\n",
      "Epoch [4/10]: 100%|██████████| 245/245 [00:02<00:00, 103.92it/s, loss=0.00888] \n",
      "Epoch [5/10]: 100%|██████████| 245/245 [00:02<00:00, 93.24it/s, loss=0.000238] \n",
      "Epoch [6/10]: 100%|██████████| 245/245 [00:02<00:00, 101.06it/s, loss=0.00027] \n",
      "Epoch [7/10]: 100%|██████████| 245/245 [00:02<00:00, 96.93it/s, loss=0.000419] \n",
      "Epoch [8/10]: 100%|██████████| 245/245 [00:02<00:00, 90.27it/s, loss=0.000295]\n",
      "Epoch [9/10]: 100%|██████████| 245/245 [00:03<00:00, 61.51it/s, loss=0.000165]\n",
      "Epoch [10/10]: 100%|██████████| 245/245 [00:05<00:00, 42.40it/s, loss=0.000569]\n"
     ]
    }
   ],
   "source": [
    "import torch.optim as optim\n",
    "from tqdm import tqdm\n",
    "\n",
    "# Training parameters\n",
    "num_epochs = 10\n",
    "learning_rate = 0.001\n",
    "device = torch.device('cuda' if torch.cuda.is_available() else 'cpu') \n",
    "model.to(device)\n",
    "criterion = nn.MSELoss()  # Mean Squared Error Loss\n",
    "optimizer = optim.Adam(model.parameters(), lr=learning_rate)\n",
    "\n",
    "for epoch in range(num_epochs):\n",
    "    loop = tqdm(dataloader, leave=True)\n",
    "    for features, target in loop:\n",
    "        features = features.float().to(device)\n",
    "        target = target.float().to(device)\n",
    "\n",
    "        outputs = model(features)\n",
    "        loss = criterion(outputs, target)\n",
    "\n",
    "        optimizer.zero_grad()\n",
    "        loss.backward()\n",
    "        optimizer.step()\n",
    "\n",
    "        loop.set_description(f'Epoch [{epoch+1}/{num_epochs}]')\n",
    "        loop.set_postfix(loss=loss.item())"
   ]
  },
  {
   "cell_type": "code",
   "execution_count": 10,
   "metadata": {},
   "outputs": [
    {
     "name": "stdout",
     "output_type": "stream",
     "text": [
      "Predicted price of Gur on 2023-01-01: 34.07\n"
     ]
    }
   ],
   "source": [
    "def predict_price(commodity, future_date):\n",
    "    future_date = pd.to_datetime(future_date)\n",
    "\n",
    "    # Create features for the future date\n",
    "    future_features = pd.DataFrame({\n",
    "        'weekday': [future_date.weekday()],\n",
    "        'month': [future_date.month],\n",
    "        'day': [future_date.day],\n",
    "        'commodity_encoded': [le.transform([commodity])[0]] \n",
    "    })\n",
    "\n",
    "    # Normalize price from future features (keep price same as it is not used for prediction)\n",
    "    future_features['price'] = 0 # dummy value\n",
    "    future_features['price'] = dataset.scaler.transform(future_features['price'].values.reshape(-1, 1))\n",
    "\n",
    "    # Prepare data for prediction (create a sequence)\n",
    "    input_data = future_features[['weekday', 'month', 'day', 'commodity_encoded', 'price']].values\n",
    "    input_data = input_data.reshape(1, 1, -1)  # (batch_size, seq_length, input_size)\n",
    "    input_data = torch.tensor(input_data).float().to(device)\n",
    "\n",
    "    # Make prediction\n",
    "    model.eval()  # Set model to evaluation mode\n",
    "    with torch.no_grad():\n",
    "        predicted_price = model(input_data)\n",
    "\n",
    "    # Inverse transform to get actual price\n",
    "    predicted_price = dataset.scaler.inverse_transform(predicted_price.cpu().numpy())\n",
    "    return predicted_price[0][0]\n",
    "\n",
    "commodity_name = 'Gur'\n",
    "date_to_predict = '2023-01-01'\n",
    "\n",
    "predicted_price = predict_price(commodity_name, date_to_predict)\n",
    "print(f\"Predicted price of {commodity_name} on {date_to_predict}: {predicted_price:.2f}\")"
   ]
  },
  {
   "cell_type": "code",
   "execution_count": null,
   "metadata": {},
   "outputs": [],
   "source": []
  }
 ],
 "metadata": {
  "kernelspec": {
   "display_name": "base",
   "language": "python",
   "name": "python3"
  },
  "language_info": {
   "codemirror_mode": {
    "name": "ipython",
    "version": 3
   },
   "file_extension": ".py",
   "mimetype": "text/x-python",
   "name": "python",
   "nbconvert_exporter": "python",
   "pygments_lexer": "ipython3",
   "version": "3.11.7"
  }
 },
 "nbformat": 4,
 "nbformat_minor": 2
}
